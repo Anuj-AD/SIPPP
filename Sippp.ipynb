{
  "nbformat": 4,
  "nbformat_minor": 0,
  "metadata": {
    "colab": {
      "provenance": [],
      "authorship_tag": "ABX9TyOH9d7b6TOmhTGnc2GSc8X/",
      "include_colab_link": true
    },
    "kernelspec": {
      "name": "python3",
      "display_name": "Python 3"
    },
    "language_info": {
      "name": "python"
    }
  },
  "cells": [
    {
      "cell_type": "markdown",
      "metadata": {
        "id": "view-in-github",
        "colab_type": "text"
      },
      "source": [
        "<a href=\"https://colab.research.google.com/github/Anuj-AD/SIPPP/blob/main/Python.ipynb\" target=\"_parent\"><img src=\"https://colab.research.google.com/assets/colab-badge.svg\" alt=\"Open In Colab\"/></a>"
      ]
    },
    {
      "cell_type": "markdown",
      "source": [
        "Try out different investing strategies on historical stock market data."
      ],
      "metadata": {
        "id": "ItVa1nLfBN5e"
      }
    },
    {
      "cell_type": "markdown",
      "source": [
        "Phase 1:\n",
        "Comparing monthly SIP in index fund vs daily investing strategy in ETF. Let's call this strategy SIP++.\n",
        "\n",
        "> What is SIP++: let's say i plan to invest INR 365000 per year in 12 monthly installments. (INR 1000 per day). SIP++ says that instead of investing monthly, invest daily. However the rule to follow is to invest only if stock market went down in the last day. eg: let's say stock market went up for 3 days, and went down on 4th day. As per SIP++, Invest 4000 on day 4 directly."
      ],
      "metadata": {
        "id": "hdzmQEBMBZeX"
      }
    },
    {
      "cell_type": "code",
      "source": [
        "# prompt: import the daily price data of NIFTY50 for the last \"N\" years in a table.\n",
        "#import data of the stock in a dataframe called stick_data\n",
        "\n",
        "!pip install yfinance\n",
        "import yfinance as yf\n",
        "import numpy as np\n",
        "import pandas as pd\n",
        "\n",
        "years = 1 # years\n",
        "ticker = \"SETFNIF50.NS\"\n",
        "stock_data = yf.download(ticker, period = f\"{years}y\", progress=False)"
      ],
      "metadata": {
        "colab": {
          "base_uri": "https://localhost:8080/"
        },
        "id": "zkvw7IEWCbiE",
        "outputId": "14d8b688-7c13-4839-9f47-c178833ce25a"
      },
      "execution_count": null,
      "outputs": [
        {
          "output_type": "stream",
          "name": "stdout",
          "text": [
            "Requirement already satisfied: yfinance in /usr/local/lib/python3.10/dist-packages (0.2.38)\n",
            "Requirement already satisfied: pandas>=1.3.0 in /usr/local/lib/python3.10/dist-packages (from yfinance) (2.0.3)\n",
            "Requirement already satisfied: numpy>=1.16.5 in /usr/local/lib/python3.10/dist-packages (from yfinance) (1.25.2)\n",
            "Requirement already satisfied: requests>=2.31 in /usr/local/lib/python3.10/dist-packages (from yfinance) (2.31.0)\n",
            "Requirement already satisfied: multitasking>=0.0.7 in /usr/local/lib/python3.10/dist-packages (from yfinance) (0.0.11)\n",
            "Requirement already satisfied: lxml>=4.9.1 in /usr/local/lib/python3.10/dist-packages (from yfinance) (4.9.4)\n",
            "Requirement already satisfied: appdirs>=1.4.4 in /usr/local/lib/python3.10/dist-packages (from yfinance) (1.4.4)\n",
            "Requirement already satisfied: pytz>=2022.5 in /usr/local/lib/python3.10/dist-packages (from yfinance) (2023.4)\n",
            "Requirement already satisfied: frozendict>=2.3.4 in /usr/local/lib/python3.10/dist-packages (from yfinance) (2.4.4)\n",
            "Requirement already satisfied: peewee>=3.16.2 in /usr/local/lib/python3.10/dist-packages (from yfinance) (3.17.3)\n",
            "Requirement already satisfied: beautifulsoup4>=4.11.1 in /usr/local/lib/python3.10/dist-packages (from yfinance) (4.12.3)\n",
            "Requirement already satisfied: html5lib>=1.1 in /usr/local/lib/python3.10/dist-packages (from yfinance) (1.1)\n",
            "Requirement already satisfied: soupsieve>1.2 in /usr/local/lib/python3.10/dist-packages (from beautifulsoup4>=4.11.1->yfinance) (2.5)\n",
            "Requirement already satisfied: six>=1.9 in /usr/local/lib/python3.10/dist-packages (from html5lib>=1.1->yfinance) (1.16.0)\n",
            "Requirement already satisfied: webencodings in /usr/local/lib/python3.10/dist-packages (from html5lib>=1.1->yfinance) (0.5.1)\n",
            "Requirement already satisfied: python-dateutil>=2.8.2 in /usr/local/lib/python3.10/dist-packages (from pandas>=1.3.0->yfinance) (2.8.2)\n",
            "Requirement already satisfied: tzdata>=2022.1 in /usr/local/lib/python3.10/dist-packages (from pandas>=1.3.0->yfinance) (2024.1)\n",
            "Requirement already satisfied: charset-normalizer<4,>=2 in /usr/local/lib/python3.10/dist-packages (from requests>=2.31->yfinance) (3.3.2)\n",
            "Requirement already satisfied: idna<4,>=2.5 in /usr/local/lib/python3.10/dist-packages (from requests>=2.31->yfinance) (3.7)\n",
            "Requirement already satisfied: urllib3<3,>=1.21.1 in /usr/local/lib/python3.10/dist-packages (from requests>=2.31->yfinance) (2.0.7)\n",
            "Requirement already satisfied: certifi>=2017.4.17 in /usr/local/lib/python3.10/dist-packages (from requests>=2.31->yfinance) (2024.2.2)\n"
          ]
        }
      ]
    },
    {
      "cell_type": "code",
      "source": [
        "# define a column called percentage change to calculate the change from previous day.\n",
        "stock_data['percentage_change'] = ((stock_data['Close'] - stock_data['Open'])/stock_data['Open'])*100"
      ],
      "metadata": {
        "id": "TEdlpP8EEqTF"
      },
      "execution_count": null,
      "outputs": []
    },
    {
      "cell_type": "code",
      "source": [
        "# find the first day of each month in this data, find the highest value on the day, assume i bought the stock at highest value, find the total number of stocks i can buy.\n",
        "# Floor it down to nearest integer, save this in stock_quantity. add this to get total_stock, multiply this by closing price of last day to get total value.\n",
        "\n",
        "first_days = stock_data.resample('MS').first()\n",
        "stock_quantity = np.floor((366000/12)/first_days['High'])\n",
        "# 1000 per day equals 365000 per year. I am taking 366000 for leap year, and keeping this number same for non-leap years. basically, giving advantage to SIPs.\n",
        "total_stock = sum(stock_quantity)\n",
        "total_money = total_stock*stock_data.iloc[-1]['Close']\n",
        "\n",
        "#we have successfully made a SIP calculator. now the difficult part"
      ],
      "metadata": {
        "id": "7zKkMmu2Fo96"
      },
      "execution_count": null,
      "outputs": []
    },
    {
      "cell_type": "code",
      "source": [
        "sippp_total_stock = 0 #this will contain the total amount of stock i was able to buy\n",
        "sippp_total_money = 0 #we will calculate the total here to compare with standard SIP total."
      ],
      "metadata": {
        "id": "JjAdZa9XUc6s"
      },
      "execution_count": null,
      "outputs": []
    },
    {
      "cell_type": "code",
      "source": [
        "# prompt: add a column in stock data names sippp_invest, set it to 0 if percentage_change >=0, set it to 1 if percentage change is <0\n",
        "stock_data['sippp_invest'] = np.where(stock_data['percentage_change'] >= 0, 0, 1)\n",
        "stock_data['sippp_invest_new'] = np.where(stock_data['sippp_invest'].shift(1) == 1, 1, 0)\n",
        "\n",
        "stock_data['counter'] = 0"
      ],
      "metadata": {
        "id": "sqk6cYOyXUCl"
      },
      "execution_count": null,
      "outputs": []
    },
    {
      "cell_type": "code",
      "source": [
        "i = 0\n",
        "for i in range(len(stock_data)):\n",
        "  if i >= len(stock_data):\n",
        "    break\n",
        "  elif i == 0:\n",
        "    stock_data.iloc[i, stock_data.columns.get_loc('counter')] = 1\n",
        "  elif stock_data.iloc[i, stock_data.columns.get_loc('sippp_invest_new')] == 0:\n",
        "    stock_data.iloc[i, stock_data.columns.get_loc('counter')] = stock_data.iloc[i-1, stock_data.columns.get_loc('counter')] + 1\n",
        "  elif stock_data.iloc[i, stock_data.columns.get_loc('sippp_invest_new')] == 1:\n",
        "    stock_data.iloc[i, stock_data.columns.get_loc('counter')] = 0\n",
        "\n",
        "stock_data['invest'] = np.where(stock_data['sippp_invest_new'] == 1, stock_data['counter'].shift(1) + 1, 0)\n"
      ],
      "metadata": {
        "id": "aLI2LYCa5BBS"
      },
      "execution_count": null,
      "outputs": []
    },
    {
      "cell_type": "code",
      "source": [
        "\n",
        "stock_data['money'] = (366000 * years)/ len(stock_data)\n",
        "\n",
        "stock_data['sippp_quantity'] = np.floor(stock_data['sippp_invest_new'] * stock_data['invest'] * stock_data['money'] / stock_data['Open'])\n",
        "stock_data['sippp_invested'] = stock_data['sippp_quantity'] * stock_data['Open']\n",
        "sippp_total_stock = sum(stock_data['sippp_quantity'])\n",
        "sippp_total_money = sippp_total_stock * stock_data.iloc[-1]['Close']\n",
        "print(\"SIP: \", total_money)\n",
        "print(\"SIPPP: \", sippp_total_money)\n",
        "invested_amount = 366000 * years\n",
        "sippp_invested_amount = sum(stock_data['sippp_invested'])\n",
        "return_sip = (total_money-invested_amount)*100/invested_amount\n",
        "\n",
        "return_sippp = (sippp_total_money-sippp_invested_amount)*100/sippp_invested_amount\n",
        "\n",
        "print(\"SIP Returns: \", return_sip)\n",
        "print(\"SIPPP Returns: \", return_sippp)\n",
        "\n",
        "print(invested_amount, sippp_invested_amount)"
      ],
      "metadata": {
        "colab": {
          "base_uri": "https://localhost:8080/"
        },
        "id": "eSLPtv5cITcT",
        "outputId": "829c1e20-6bb4-4bd3-be53-e5d0ff0bd639"
      },
      "execution_count": null,
      "outputs": [
        {
          "output_type": "stream",
          "name": "stdout",
          "text": [
            "SIP:  429765.4963989258\n",
            "SIPPP:  383016.63787841797\n",
            "SIP Returns:  17.42226677566278\n",
            "SIPPP Returns:  8.900927381406762\n",
            "366000 351711.08923339844\n"
          ]
        }
      ]
    }
  ]
}
